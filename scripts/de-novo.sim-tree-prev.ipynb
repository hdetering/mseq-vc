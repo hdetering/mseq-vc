{
 "cells": [
  {
   "cell_type": "markdown",
   "metadata": {},
   "source": [
    "# Clonal substructure of multi-regional tumors <a class='tocSkip'>\n",
    "\n",
    "[Harald Detering](mailto:hdetering@uvigo.es)   \n",
    "2018-05-11\n",
    "\n",
    "# Objective\n",
    "\n",
    "To simulate multi-regional tumor data, a clone tree is to be defined, and clones assigned to multiple regional samples.\n",
    "\n",
    "Three different types of tumors will be considered here:\n",
    "1. **low admixture**: clones segregate spatially, few samples share clones\n",
    "1. **medium admixture**: higher admixture of clones in space, typically samples will share clones\n",
    "1. **high admixture**: samples contain multiple clones\n",
    "\n",
    "Ideally, the ancestral relationships between clones should be respected. I.e., clones that are more closely related should have a higher probability to occur in the same sample than distantly related clones (isolation by distance)."
   ]
  },
  {
   "cell_type": "markdown",
   "metadata": {},
   "source": [
    "# Parameters\n",
    "\n",
    "The following parameters will remain **fixed** in this simulation:\n",
    "* no. _clones_: 6\n",
    "* no. _samples_: 5\n",
    "\n",
    "The **variable** parameters are:\n",
    "* _clone phylogeny_: clone tree that defines relationships\n",
    "* _prevalence matrix_: the frequency of each clone in each sample"
   ]
  },
  {
   "cell_type": "code",
   "execution_count": 1,
   "metadata": {},
   "outputs": [],
   "source": [
    "n = 6 # number of clones\n",
    "s = 5 # number of samples\n",
    "\n",
    "# define labels for clones and regions\n",
    "lbl_healthy = 'H'\n",
    "lbl_clones  = ['C{}'.format(i+1) for i in range(n)]\n",
    "lbl_regions = ['R{}'.format(i+1) for i in range(s)]"
   ]
  },
  {
   "cell_type": "markdown",
   "metadata": {},
   "source": [
    "# Clone tree topology\n",
    "\n",
    "The general steps to derive the clone tree are the following:\n",
    "1. start with a set of nodes $S:=\\{C_1\\}$\n",
    "2. for each clone $C_n \\left(n\\in\\{2,\\ldots,n\\}\\right)$: attach a new node to a random parent node from $S$"
   ]
  },
  {
   "cell_type": "code",
   "execution_count": 2,
   "metadata": {},
   "outputs": [
    {
     "data": {
      "image/png": "[encoded data removed]",
      "text/plain": [
       "<IPython.core.display.Image object>"
      ]
     },
     "execution_count": 2,
     "metadata": {},
     "output_type": "execute_result"
    }
   ],
   "source": [
    "import random\n",
    "import numpy as np\n",
    "import ete3\n",
    "\n",
    "# make reproducible random choices\n",
    "seed = 3\n",
    "random.seed(seed)\n",
    "np.random.seed(seed)\n",
    "\n",
    "def init_tree_nodes(n, labels, lbl_healthy='H', seed=None):\n",
    "    '''Initialize tree topology (populating internal nodes).'''\n",
    "    import random\n",
    "    if seed is not None:\n",
    "        random.seed(seed)\n",
    "    \n",
    "    tree = ete3.Tree(name=lbl_healthy, dist=0.0)\n",
    "    nodes = [tree]\n",
    "    for i in range(n):\n",
    "        parent = random.choice(nodes)\n",
    "        child = parent.add_child(name=lbl_clones[i], dist=1.0)\n",
    "        nodes.append(child)\n",
    "        \n",
    "    return tree\n",
    "\n",
    "# generate random clone tree topology\n",
    "t = init_tree_nodes(n, lbl_clones, lbl_healthy, seed)\n",
    "\n",
    "# define style for tree plotting\n",
    "ts = ete3.TreeStyle()\n",
    "#ts.title.add_face(ete3.TextFace('Clone Tree', fsize=14), column=0)\n",
    "ts.show_leaf_name = False\n",
    "def tree_node_layout(node):\n",
    "    face = ete3.TextFace(node.name, tight_text=True, fsize=10)\n",
    "    face.margin_top = 10\n",
    "    face.margin_bottom = 10\n",
    "    ete3.faces.add_face_to_node(face, node, column=0, position='branch-right')\n",
    "ts.layout_fn = tree_node_layout\n",
    "\n",
    "# show resulting tree\n",
    "t.write(outfile='c6.tre', format=1, format_root_node=True)\n",
    "t.render(file_name='%%inline', tree_style=ts)"
   ]
  },
  {
   "cell_type": "code",
   "execution_count": null,
   "metadata": {},
   "outputs": [],
   "source": []
  },
  {
   "cell_type": "markdown",
   "metadata": {},
   "source": [
    "## Alternative representation: Clones as leaf nodes\n",
    "\n",
    "Some operations (e.g., calculation of distances between taxa) are more convenient if clones (taxa) are leaf nodes. An equivalent clone tree can be constructed by pulling out populated internal nodes as leafs with branch length of zero."
   ]
  },
  {
   "cell_type": "code",
   "execution_count": 3,
   "metadata": {
    "scrolled": true
   },
   "outputs": [
    {
     "data": {
      "image/png": "[encoded data removed]",
      "text/plain": [
       "<IPython.core.display.Image object>"
      ]
     },
     "execution_count": 3,
     "metadata": {},
     "output_type": "execute_result"
    }
   ],
   "source": [
    "def reformat_int_to_leaf(tree, ignore_root=True):\n",
    "    '''Reformat tree: pull out internal nodes as leafs.'''\n",
    "    import ete3\n",
    "    # make sure input is of the expected type\n",
    "    assert type(tree) is ete3.Tree, 'Expected type of parameter \"tree\": ete3.Tree'\n",
    "    \n",
    "    for node in tree.traverse():\n",
    "        if not node.is_leaf():\n",
    "            # ignore root node if requested\n",
    "            if node.is_root() and ignore_root:\n",
    "                continue\n",
    "            # create new leaf node\n",
    "            node_leaf = ete3.TreeNode(name=node.name, dist=0)\n",
    "            # mark populated internal node as unpopulated\n",
    "            node.name = ''\n",
    "            # attach leaf to internal node\n",
    "            node.add_child(node_leaf)\n",
    "    \n",
    "    return tree\n",
    "\n",
    "# re-format tree without internal nodes\n",
    "t_ete = ete3.Tree('c6.tre', format=1)\n",
    "t_bin = reformat_int_to_leaf(t_ete)\n",
    "        \n",
    "# write re-formatted tree to file\n",
    "t_bin.write(outfile='c6.bin.tre', format=1, format_root_node=True)\n",
    "t_bin.render(file_name='%%inline', tree_style=ts)"
   ]
  },
  {
   "cell_type": "markdown",
   "metadata": {},
   "source": [
    "# Assign clones to samples\n",
    "\n",
    "Clones are assigned to sampled regions as follows:\n",
    "\n",
    "1. Pick the number of clones ($n_c$) to include in each sample\n",
    "2. For each sample:\n",
    "    1. Select an initial clone to be present in the sample\n",
    "    2. Select the remaining ($n_c-1$) clones according to phylogenetic distance in the clone tree\n",
    "\n",
    "## Number of clones per sample\n",
    "\n",
    "The number of clones that are included in each sample follows a prior distribution which is different for each tumor type. The prior distributions are derived from a beta distribution, discretized into equally sized bins."
   ]
  },
  {
   "cell_type": "code",
   "execution_count": 4,
   "metadata": {},
   "outputs": [],
   "source": [
    "def get_beta_discrete(num_bins, a, b):\n",
    "    from scipy.stats import beta\n",
    "    import numpy as np\n",
    "    \n",
    "    # boundaries of bins\n",
    "    limits = np.cumsum([0.0]+[1/num_bins]*num_bins)\n",
    "    # get cumulative density for bin limits\n",
    "    cdf = beta.cdf(limits, a, b)\n",
    "    # get bin-wise probabilities\n",
    "    bin_probs = np.diff(cdf)\n",
    "    \n",
    "    return bin_probs\n",
    "\n",
    "def plot_bar(ax, x, y, title='Barplot', ylab='variable y', xlab='category'):\n",
    "    import matplotlib.pyplot as plt\n",
    "    \n",
    "    x_pos = list(range(len(x)))\n",
    "    ax.bar(x_pos, y, align='center', alpha=0.5)\n",
    "    ax.grid()\n",
    "    \n",
    "    # set axis labels and title\n",
    "    ax.set_ylabel(ylab)\n",
    "    ax.set_xlabel(xlab)\n",
    "    ax.set_xticks(range(len(x)))\n",
    "    ax.set_xticklabels(x)\n",
    "    ax.set_title(title)\n",
    "    \n",
    "    # set height of the y-axis\n",
    "    plt.ylim([0, (max(y)) * 1.1])"
   ]
  },
  {
   "cell_type": "markdown",
   "metadata": {},
   "source": [
    "Different tumor types are characterized by different prior distributions for the number of clones to include in a given regional sample:"
   ]
  },
  {
   "cell_type": "code",
   "execution_count": 5,
   "metadata": {
    "scrolled": true
   },
   "outputs": [
    {
     "data": {
      "image/png": "[encoded data removed]",
      "text/plain": [
       "<Figure size 720x144 with 3 Axes>"
      ]
     },
     "metadata": {},
     "output_type": "display_data"
    }
   ],
   "source": [
    "%matplotlib inline\n",
    "import matplotlib.pyplot as plt\n",
    "\n",
    "p_nclones_us = get_beta_discrete(n, 3, 1)\n",
    "p_nclones_ms = get_beta_discrete(n, 1, 1)\n",
    "p_nclones_hs = get_beta_discrete(n, 1, 3)\n",
    "\n",
    "fig = plt.figure(figsize=(10,2))\n",
    "#fig.suptitle('Prior distributions for number of clones per sample', \n",
    "#             fontsize=16, y=1.2, verticalalignment='top')\n",
    "x = range(1, n+1)\n",
    "\n",
    "# unstructured tumor\n",
    "ax1 = fig.add_subplot(131)\n",
    "plot_bar(ax1, x, p_nclones_us, title='High admixture', \n",
    "         xlab='#clones', ylab='probability')\n",
    "ax1.grid(False)\n",
    "\n",
    "# moderately structured tumor\n",
    "ax2 = fig.add_subplot(132, sharey=ax1)\n",
    "plot_bar(ax2, x, p_nclones_ms, title='Medium admixture', \n",
    "         xlab='#clones', ylab='')\n",
    "ax2.grid(False)\n",
    "\n",
    "# highly structured tumor\n",
    "ax3 = fig.add_subplot(133, sharey=ax1)\n",
    "plot_bar(ax3, x, p_nclones_hs, title='Low admixture', \n",
    "         xlab='#clones', ylab='')\n",
    "ax3.grid(False)\n",
    "\n",
    "plt.savefig(\"figures/Fig6.admixture_classes.pdf\", format=\"pdf\", bbox_inches='tight')\n",
    "plt.savefig(\"figures/Fig6.admixture_classes.png\", format=\"png\", bbox_inches='tight')"
   ]
  },
  {
   "cell_type": "markdown",
   "metadata": {},
   "source": [
    "## Pick clones for samples\n",
    "\n",
    "In order to realize the constraints defined above, clones are chosen according to their degree of relatedness.\n",
    "\n",
    "The general steps, for a given sample, are as follows:\n",
    "\n",
    "1. Select an initial clone $c_i$ to be included in the sample.\n",
    "2. Choose further clones until the desired number of clones is achieved. Importantly, the probability of a clone to be chosen is proportional to it's distance to $c_i$ in the clone tree."
   ]
  },
  {
   "cell_type": "code",
   "execution_count": 6,
   "metadata": {},
   "outputs": [],
   "source": [
    "def pick_related_nodes(n, dist, e_init):\n",
    "    '''Choose a set of nodes related to an initial node.'''\n",
    "    import numpy as np\n",
    "    import pandas as pd\n",
    "    \n",
    "    # make sure input is of the expected type\n",
    "    assert type(dist) is pd.DataFrame, 'Expected type of parameter \"dist\": pandas.DataFrame'\n",
    "    \n",
    "    # get distances for initial element\n",
    "    d = dist.loc[e_init, dist.columns != e_init]\n",
    "    # transform distances to similarities\n",
    "    s = np.exp(-d)\n",
    "    # transform similarities to probabilities (normalize)\n",
    "    p = s / sum(s)\n",
    "    # choose elements according to probabilities\n",
    "    res = np.random.choice(p.index, n, replace=False, p=p)\n",
    "    \n",
    "    return res"
   ]
  },
  {
   "cell_type": "markdown",
   "metadata": {},
   "source": [
    "## Distance measure\n",
    "\n",
    "For this application, the distances between two clones is defined as the sum of branch lengths on the path between them."
   ]
  },
  {
   "cell_type": "code",
   "execution_count": 7,
   "metadata": {},
   "outputs": [
    {
     "data": {
      "text/html": [
       "<div>\n",
       "<style scoped>\n",
       "    .dataframe tbody tr th:only-of-type {\n",
       "        vertical-align: middle;\n",
       "    }\n",
       "\n",
       "    .dataframe tbody tr th {\n",
       "        vertical-align: top;\n",
       "    }\n",
       "\n",
       "    .dataframe thead th {\n",
       "        text-align: right;\n",
       "    }\n",
       "</style>\n",
       "<table border=\"1\" class=\"dataframe\">\n",
       "  <thead>\n",
       "    <tr style=\"text-align: right;\">\n",
       "      <th></th>\n",
       "      <th>C5</th>\n",
       "      <th>C4</th>\n",
       "      <th>C3</th>\n",
       "      <th>C1</th>\n",
       "      <th>C2</th>\n",
       "      <th>C6</th>\n",
       "    </tr>\n",
       "  </thead>\n",
       "  <tbody>\n",
       "    <tr>\n",
       "      <th>C5</th>\n",
       "      <td>0.0</td>\n",
       "      <td>1.0</td>\n",
       "      <td>2.0</td>\n",
       "      <td>3.0</td>\n",
       "      <td>5.0</td>\n",
       "      <td>5.0</td>\n",
       "    </tr>\n",
       "    <tr>\n",
       "      <th>C4</th>\n",
       "      <td>1.0</td>\n",
       "      <td>0.0</td>\n",
       "      <td>1.0</td>\n",
       "      <td>2.0</td>\n",
       "      <td>4.0</td>\n",
       "      <td>4.0</td>\n",
       "    </tr>\n",
       "    <tr>\n",
       "      <th>C3</th>\n",
       "      <td>2.0</td>\n",
       "      <td>1.0</td>\n",
       "      <td>0.0</td>\n",
       "      <td>1.0</td>\n",
       "      <td>3.0</td>\n",
       "      <td>3.0</td>\n",
       "    </tr>\n",
       "    <tr>\n",
       "      <th>C1</th>\n",
       "      <td>3.0</td>\n",
       "      <td>2.0</td>\n",
       "      <td>1.0</td>\n",
       "      <td>0.0</td>\n",
       "      <td>2.0</td>\n",
       "      <td>2.0</td>\n",
       "    </tr>\n",
       "    <tr>\n",
       "      <th>C2</th>\n",
       "      <td>5.0</td>\n",
       "      <td>4.0</td>\n",
       "      <td>3.0</td>\n",
       "      <td>2.0</td>\n",
       "      <td>0.0</td>\n",
       "      <td>2.0</td>\n",
       "    </tr>\n",
       "    <tr>\n",
       "      <th>C6</th>\n",
       "      <td>5.0</td>\n",
       "      <td>4.0</td>\n",
       "      <td>3.0</td>\n",
       "      <td>2.0</td>\n",
       "      <td>2.0</td>\n",
       "      <td>0.0</td>\n",
       "    </tr>\n",
       "  </tbody>\n",
       "</table>\n",
       "</div>"
      ],
      "text/plain": [
       "     C5   C4   C3   C1   C2   C6\n",
       "C5  0.0  1.0  2.0  3.0  5.0  5.0\n",
       "C4  1.0  0.0  1.0  2.0  4.0  4.0\n",
       "C3  2.0  1.0  0.0  1.0  3.0  3.0\n",
       "C1  3.0  2.0  1.0  0.0  2.0  2.0\n",
       "C2  5.0  4.0  3.0  2.0  0.0  2.0\n",
       "C6  5.0  4.0  3.0  2.0  2.0  0.0"
      ]
     },
     "execution_count": 7,
     "metadata": {},
     "output_type": "execute_result"
    }
   ],
   "source": [
    "def get_taxa_dist(tree_nwk):\n",
    "    '''Get pairwise distances between taxa of a dendropy.Tree.'''\n",
    "    import dendropy\n",
    "    import pandas as pd\n",
    "    \n",
    "    # read tree from Newick string\n",
    "    tree = dendropy.Tree.get(data=tree_nwk, schema='newick')\n",
    "    \n",
    "    # make sure input is of the expected type\n",
    "    assert type(tree) is dendropy.Tree, 'Expected input: dendropy.Tree'\n",
    "    # get leaf labels\n",
    "    lbl = [x.label for x in tree.taxon_namespace]\n",
    "    # calculate distance from root for nodes\n",
    "    #dist = t.calc_node_root_distances(return_leaf_distances_only=False)\n",
    "    # prepare distance matrix\n",
    "    df = pd.DataFrame(0.0, index=lbl, columns=lbl)\n",
    "    # determine distances\n",
    "    m = tree.phylogenetic_distance_matrix()\n",
    "    for i in range(len(lbl)):\n",
    "        for j in range(i+1, len(lbl)):\n",
    "            tax1 = tree.taxon_namespace[i]\n",
    "            tax2 = tree.taxon_namespace[j]\n",
    "            d = m.patristic_distance(tax1, tax2) \n",
    "            df.loc[tax1.label, tax2.label] = d\n",
    "            df.loc[tax2.label, tax1.label] = d\n",
    "    \n",
    "    return df\n",
    "\n",
    "with open('c6.bin.tre', 'rt') as f:\n",
    "    t_bin_nwk = f.read()\n",
    "dist = get_taxa_dist(t_bin_nwk)\n",
    "dist\n",
    "#t_ete.render(file_name='%%inline', tree_style=ts)"
   ]
  },
  {
   "cell_type": "markdown",
   "metadata": {
    "collapsed": true
   },
   "source": [
    "# Clone prevalence\n",
    "\n",
    "Given the clone tree, the next task is to configure the **prevalence matrix**, i.e., at which cellular frequency each clone occurs in each sample.\n",
    "\n",
    "## Assumptions\n",
    "\n",
    "1. **Isolation by distance** (IBD): Clones that are distantly related should rarely be present in the same region. \n",
    "\n",
    "## Constraints\n",
    "\n",
    "1. The prevalence matrix should reflect the **type of tumor** to be simulated, i.e., low, medium or high admixture.\n",
    "2. **Each clone should be present** in at least one sample.\n",
    "3. **Respect IBD**: Closely related clones should have a higher probability to appear in the same sample than distantly related ones. (Does not apply to unstructured tumors.)\n",
    "\n",
    "## Prior distribution\n",
    "\n",
    "In the absence of a specific spatial model, the clones present in a given sample can occur in any mixture proportion. We modelize this indifference as a flat dirichlet prior.\n",
    "\n",
    "**Note**: This can lead to clones being excluded because their prevalence is below the detectability threshold."
   ]
  },
  {
   "cell_type": "code",
   "execution_count": 8,
   "metadata": {},
   "outputs": [],
   "source": [
    "def pick_prevalence_unbiased(n):\n",
    "    import numpy as np\n",
    "    import pandas as pd\n",
    "    \n",
    "    prev = np.random.dirichlet([1]*n)\n",
    "    return prev"
   ]
  },
  {
   "cell_type": "markdown",
   "metadata": {},
   "source": [
    "# Wrapping up: Bundle workflow into single method\n",
    "\n",
    "This method performs the workflow steps outlined above and assures consistency of the generated scenario.\n",
    "\n",
    "**Constraint:** Each clone should be included in at least one sample. Therefore, we employ *rejection sampling*, repeating the process of clone selection until the constraint is satisfied."
   ]
  },
  {
   "cell_type": "code",
   "execution_count": 9,
   "metadata": {},
   "outputs": [],
   "source": [
    "def get_tumor_setup(num_clones, num_samples, tumor_type, seed=None):\n",
    "    '''Generate configuration for a tumor sequencing dataset.\n",
    "    \n",
    "    A setup comprises multiple clones and sampling regions and\n",
    "    returns a clone tree and prevalence matrix for the specified\n",
    "    input parameters.\n",
    "    \n",
    "    Parameters\n",
    "    ---\n",
    "    :num_clones:  Number of clones present in the tumor.\n",
    "    :num_samples: Number of tumor regions sampled.\n",
    "    :tumor_type:  One of \"hs\", \"ms\", \"us\" (highly, moderately or unstructured).\n",
    "    :seed:        Random seed.\n",
    "    \n",
    "    Output\n",
    "    ---\n",
    "    1. Clone tree in Newick notation. (string)\n",
    "    2. Prevalence matrix (sample X clone). (DataFrame)\n",
    "    3. Sampling scheme. (DataFrame)\n",
    "    4. Prior used for selection of shared clones per sample. (DataFrame)\n",
    "    '''\n",
    "    \n",
    "    #import random\n",
    "    import numpy as np\n",
    "    import pandas as pd\n",
    "    import dendropy as dp\n",
    "    import ete3\n",
    "\n",
    "    # make reproducible random choices\n",
    "    if seed is not None:\n",
    "        random.seed(seed)\n",
    "        np.random.seed(seed)\n",
    "    \n",
    "    # define labels for clones and samples\n",
    "    lbl_clones  = ['C{}'.format(i+1) for i in range(num_clones)]\n",
    "    lbl_regions = ['R{}'.format(i+1) for i in range(num_samples)]\n",
    "\n",
    "    # init random clone tree topology\n",
    "    tree_ete = init_tree_nodes(num_clones, lbl_clones)\n",
    "    tree_nwk = tree_ete.write(format=1, format_root_node=True)\n",
    "    tree_ete_leaf = reformat_int_to_leaf(tree_ete)\n",
    "    tree_nwk_leaf = tree_ete_leaf.write(format=1, format_root_node=True)\n",
    "    dist = get_taxa_dist(tree_nwk_leaf)\n",
    "    \n",
    "    # get prior probabilities for number of clones per sample\n",
    "    assert tumor_type in ['hs', 'ms', 'us'], 'Tumor type must be \"hs\", \"ms\" or \"us\".'\n",
    "    if tumor_type == 'hs':\n",
    "        p_nclones = get_beta_discrete(num_clones, a=1, b=5)\n",
    "    elif tumor_type == 'ms':\n",
    "        p_nclones = get_beta_discrete(num_clones, a=1, b=1)\n",
    "    elif tumor_type == 'us':\n",
    "        p_nclones = get_beta_discrete(num_clones, a=5, b=1)\n",
    "    \n",
    "    # choose number of clones for each sample:\n",
    "    nclones = np.random.choice(range(1,num_clones+1), num_samples, p=p_nclones)\n",
    "    df_sampling = pd.DataFrame(data = nclones,\n",
    "                               index = lbl_regions,\n",
    "                               columns = ['nclones'])\n",
    "    \n",
    "    # choose clones to include in each sample\n",
    "    all_clones_sampled = False\n",
    "    while not all_clones_sampled:\n",
    "        lst_clones = []\n",
    "        set_clones = set()\n",
    "        for idx, row in df_sampling.iterrows():\n",
    "            # get number of clones selected before\n",
    "            nclones = row['nclones']\n",
    "            # choose random initial clone\n",
    "            c_init = np.random.choice(lbl_clones)\n",
    "            sel_clones = [c_init]\n",
    "            sel_clones += list(pick_related_nodes(nclones-1, dist, c_init))\n",
    "            lst_clones.append(sel_clones)\n",
    "            set_clones.update(sel_clones)\n",
    "        all_clones_sampled = ( len(set_clones) == num_clones )\n",
    "    df_sampling['sel_clones'] = pd.Series(lst_clones, index=df_sampling.index)\n",
    "    \n",
    "    # assign prevalence for clones in each sample\n",
    "    df_prev = pd.DataFrame(0, index=lbl_regions, columns=lbl_clones, dtype=float)\n",
    "    for idx, row in df_sampling.iterrows():\n",
    "        p = np.random.dirichlet([1]*row['nclones'])\n",
    "        df_prev.loc[idx, row['sel_clones']] = p\n",
    "    \n",
    "    # return result\n",
    "    return (tree_nwk, df_prev, df_sampling, p_nclones)"
   ]
  },
  {
   "cell_type": "markdown",
   "metadata": {},
   "source": [
    "# Show case: apply rules to different tumor types\n",
    "\n",
    "## High admixture (unstructured tumor)\n",
    "\n",
    "The simplest case is an highly admixed tumor. Here,\n",
    "* it should be much more likely that many clones are shared within each sample and \n",
    "* clone prevalences can be sampled from a *flat dirichlet prior*:"
   ]
  },
  {
   "cell_type": "code",
   "execution_count": 10,
   "metadata": {},
   "outputs": [],
   "source": [
    "tree_nwk, df_prev, df_sampling, p_nclones = get_tumor_setup(n, s, 'us')\n",
    "# save scenario to files\n",
    "with open('c6_r5_us.tree.nwk', 'wt') as f:\n",
    "    f.write('{}\\n'.format(tree_nwk))\n",
    "df_prev.to_csv('c6_r5_us.prev.csv')"
   ]
  },
  {
   "cell_type": "code",
   "execution_count": 11,
   "metadata": {},
   "outputs": [
    {
     "data": {
      "image/png": "[encoded data removed]",
      "text/plain": [
       "<Figure size 720x288 with 3 Axes>"
      ]
     },
     "metadata": {},
     "output_type": "display_data"
    }
   ],
   "source": [
    "import matplotlib.pyplot as plt\n",
    "import matplotlib.image as mpimg\n",
    "import seaborn as sns\n",
    "\n",
    "tree_ete = ete3.Tree(tree_nwk, format=1)\n",
    "tree_ete.render(file_name='clone_tree_us.png', tree_style=ts, w=4, units='in', dpi=150)\n",
    "tree_img = mpimg.imread('clone_tree_us.png')\n",
    "\n",
    "fig = plt.figure(figsize=(10,4))\n",
    "fig.suptitle('High Admixture Tumor', fontsize=14)\n",
    "\n",
    "# plot clone tree\n",
    "ax1 = fig.add_subplot(121)\n",
    "plt.imshow(tree_img, interpolation='bilinear')\n",
    "ax1.axis('off')\n",
    "ax1.set_title('Clone Tree')\n",
    "\n",
    "# plot prevalence matrix as heatmap\n",
    "ax2 = fig.add_subplot(122)\n",
    "ax2 = sns.heatmap(df_prev, cmap=\"YlGnBu\", annot=True, fmt='0.2f')\n",
    "ax2.set_title('Prevalence Matrix')\n",
    "\n",
    "plt.savefig(\"c6_r4_us.png\", bbox_inches='tight')"
   ]
  },
  {
   "cell_type": "markdown",
   "metadata": {},
   "source": [
    "## Low admixture (highly structured tumor)\n",
    "\n",
    "A tumor of low admixture implies little sharing of clones between samples. However, when sharing occurs, closely related clones should be sampled together.\n",
    "\n",
    "By selecting an intermediate node in the clone tree and including all clones belonging to the corresponding subtree, a phylogenetically consistent sampling (satisfying IBD assumption) can be generated.\n",
    "\n",
    "To account for the fact that the tumor is highly structured, an internal node close to the leaves must be chosen, i.e., a node with small height."
   ]
  },
  {
   "cell_type": "code",
   "execution_count": 12,
   "metadata": {},
   "outputs": [],
   "source": [
    "tree_nwk, df_prev, df_sampling, p_nclones = get_tumor_setup(n, s, 'hs')\n",
    "# save scenario to files\n",
    "with open('c6_r5_hs.tree.nwk', 'wt') as f:\n",
    "    f.write('{}\\n'.format(tree_nwk))\n",
    "df_prev.to_csv('c6_r5_hs.prev.csv')"
   ]
  },
  {
   "cell_type": "code",
   "execution_count": 13,
   "metadata": {
    "scrolled": false
   },
   "outputs": [
    {
     "data": {
      "image/png": "[encoded data removed]",
      "text/plain": [
       "<Figure size 720x288 with 3 Axes>"
      ]
     },
     "metadata": {},
     "output_type": "display_data"
    }
   ],
   "source": [
    "import seaborn as sns\n",
    "import matplotlib.pyplot as plt\n",
    "import matplotlib.image as mpimg\n",
    "\n",
    "tree_ete = ete3.Tree(tree_nwk, format=1)\n",
    "tree_ete.render(file_name='clone_tree_hs.png', tree_style=ts, w=4, units='in', dpi=150)\n",
    "tree_img = mpimg.imread('clone_tree_hs.png')\n",
    "\n",
    "fig = plt.figure(figsize=(10,4))\n",
    "fig.suptitle('Low Admixture Tumor', fontsize=14)\n",
    "\n",
    "# plot clone tree\n",
    "ax1 = fig.add_subplot(121)\n",
    "plt.imshow(tree_img, interpolation='bilinear')\n",
    "ax1.axis('off')\n",
    "ax1.set_title('Clone Tree')\n",
    "\n",
    "# plot prevalence matrix as heatmap\n",
    "ax2 = fig.add_subplot(122)\n",
    "ax2 = sns.heatmap(df_prev, cmap=\"YlGnBu\", annot=True, fmt='0.2f')\n",
    "ax2.set_title('Prevalence Matrix')\n",
    "\n",
    "plt.savefig(\"c6_r4_hs.png\", bbox_inches='tight')"
   ]
  },
  {
   "cell_type": "markdown",
   "metadata": {
    "collapsed": true
   },
   "source": [
    "## Medium admixture (moderately structured tumor)\n",
    "\n",
    "Medium admixture tumors should have more sharing of clones between samples than highly structured tumors. In order to simulate this structure, choose with higher probability intermediate nodes that are located higher within the clone tree."
   ]
  },
  {
   "cell_type": "code",
   "execution_count": 14,
   "metadata": {},
   "outputs": [],
   "source": [
    "tree_nwk, df_prev, df_sampling, p_nclones = get_tumor_setup(n, s, 'ms')\n",
    "# save scenario to files\n",
    "with open('c6_r5_ms.tree.nwk', 'wt') as f:\n",
    "    f.write('{}\\n'.format(tree_nwk))\n",
    "df_prev.to_csv('c6_r5_ms.prev.csv')"
   ]
  },
  {
   "cell_type": "code",
   "execution_count": 15,
   "metadata": {
    "scrolled": false
   },
   "outputs": [
    {
     "data": {
      "image/png": "[encoded data removed]",
      "text/plain": [
       "<Figure size 720x288 with 3 Axes>"
      ]
     },
     "metadata": {},
     "output_type": "display_data"
    }
   ],
   "source": [
    "import seaborn as sns\n",
    "import matplotlib.pyplot as plt\n",
    "import matplotlib.image as mpimg\n",
    "\n",
    "tree_ete = ete3.Tree(tree_nwk, format=1)\n",
    "tree_ete.render(file_name='clone_tree_ms.png', tree_style=ts, w=4, units='in', dpi=150)\n",
    "tree_img = mpimg.imread('clone_tree_ms.png')\n",
    "\n",
    "fig = plt.figure(figsize=(10,4))\n",
    "fig.suptitle('Medium Admixture Tumor', fontsize=14)\n",
    "\n",
    "# plot clone tree\n",
    "ax1 = fig.add_subplot(121)\n",
    "plt.imshow(tree_img, interpolation='bilinear')\n",
    "ax1.axis('off')\n",
    "ax1.set_title('Clone Tree')\n",
    "\n",
    "# plot prevalence matrix as heatmap\n",
    "ax2 = fig.add_subplot(122)\n",
    "ax2 = sns.heatmap(df_prev, cmap=\"YlGnBu\", annot=True, fmt='0.2f')\n",
    "ax2.set_title('Prevalence Matrix')\n",
    "\n",
    "plt.savefig(\"c6_r4_ms.png\", bbox_inches='tight')"
   ]
  }
 ],
 "metadata": {
  "kernelspec": {
   "display_name": "Python 3",
   "language": "python",
   "name": "python3"
  },
  "language_info": {
   "codemirror_mode": {
    "name": "ipython",
    "version": 3
   },
   "file_extension": ".py",
   "mimetype": "text/x-python",
   "name": "python",
   "nbconvert_exporter": "python",
   "pygments_lexer": "ipython3",
   "version": "3.5.6"
  },
  "toc": {
   "base_numbering": 1,
   "nav_menu": {},
   "number_sections": true,
   "sideBar": true,
   "skip_h1_title": false,
   "title_cell": "Table of Contents",
   "title_sidebar": "Contents",
   "toc_cell": false,
   "toc_position": {
    "height": "calc(100% - 180px)",
    "left": "10px",
    "top": "150px",
    "width": "223px"
   },
   "toc_section_display": true,
   "toc_window_display": true
  }
 },
 "nbformat": 4,
 "nbformat_minor": 1
}
